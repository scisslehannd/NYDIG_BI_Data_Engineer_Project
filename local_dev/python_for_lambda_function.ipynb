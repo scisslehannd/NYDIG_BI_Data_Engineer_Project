{
 "cells": [
  {
   "cell_type": "code",
   "execution_count": 1,
   "id": "c1352725",
   "metadata": {},
   "outputs": [],
   "source": [
    "import pandas as pd\n",
    "import json\n"
   ]
  },
  {
   "cell_type": "code",
   "execution_count": 2,
   "id": "8e51a63b",
   "metadata": {},
   "outputs": [],
   "source": [
    "files = ['raw_data/00639025_blocks.json', 'raw_data/00639025_transactions.json']\n",
    "filename = files[0]\n"
   ]
  },
  {
   "cell_type": "code",
   "execution_count": 3,
   "id": "95b9c0ca",
   "metadata": {},
   "outputs": [],
   "source": [
    "def parse_transaction_file(filename):\n",
    "    json_file = open(filename)\n",
    "    json_obj = json.load(json_file)\n",
    "    print(len(json_obj))\n",
    "    #print(json_obj[0]['vout'][3])\n",
    "    #df = pd.DataFrame.from_dict(json_obj[595]['vin'])\n",
    "    json_file.close()"
   ]
  },
  {
   "cell_type": "code",
   "execution_count": 4,
   "id": "ca8e232f",
   "metadata": {},
   "outputs": [],
   "source": [
    "def parse_block_file(filename):\n",
    "    json_file = open(filename)\n",
    "    json_obj = json.load(json_file)\n",
    "    df = pd.DataFrame.from_dict(json_obj)\n",
    "    return df"
   ]
  },
  {
   "cell_type": "code",
   "execution_count": 5,
   "id": "64140e99",
   "metadata": {},
   "outputs": [],
   "source": [
    "def convert_to_csv(df, filename):\n",
    "    df.to_csv(\"csv/\" + filename[9:-5] + \".csv\", encoding = \"utf-8\", index = False)"
   ]
  },
  {
   "cell_type": "code",
   "execution_count": 6,
   "id": "ec933956",
   "metadata": {},
   "outputs": [
    {
     "name": "stdout",
     "output_type": "stream",
     "text": [
      "                                                    tx  height      bits  \\\n",
      "0    c32f41f251aab69cf2cf31ab064daf533e2deaf9a16b76...  639025  1711d519   \n",
      "1    76b30b8fd52acf695d68e176b1750b5068c724c9f62a29...  639025  1711d519   \n",
      "2    856243951df21cf2e422393d92e06ec48215c76bede3e7...  639025  1711d519   \n",
      "3    be307b1569a40f7a3129d8db17fa98817f108a3ecf1d03...  639025  1711d519   \n",
      "4    437828a2ae400d70d8e423618bb188a8c4eb925f555ad8...  639025  1711d519   \n",
      "..                                                 ...     ...       ...   \n",
      "591  41ae29428d337a2485683312a806513e6078b6bd7d715c...  639025  1711d519   \n",
      "592  6375ffdc3cd1da5d6f94e6cb2f134cfdb356f7bdb9d5f1...  639025  1711d519   \n",
      "593  e0805abf1a09082d39dd8945074c6b22c7ed288e538372...  639025  1711d519   \n",
      "594  d8c52c097cd7adb1bd649c22592967d83d023f3e578f11...  639025  1711d519   \n",
      "595  456bc1106f3a1e530c34e64084b4c0b0819c658f133a60...  639025  1711d519   \n",
      "\n",
      "                                             chainwork  confirmations  \\\n",
      "0    00000000000000000000000000000000000000001149f0...              1   \n",
      "1    00000000000000000000000000000000000000001149f0...              1   \n",
      "2    00000000000000000000000000000000000000001149f0...              1   \n",
      "3    00000000000000000000000000000000000000001149f0...              1   \n",
      "4    00000000000000000000000000000000000000001149f0...              1   \n",
      "..                                                 ...            ...   \n",
      "591  00000000000000000000000000000000000000001149f0...              1   \n",
      "592  00000000000000000000000000000000000000001149f0...              1   \n",
      "593  00000000000000000000000000000000000000001149f0...              1   \n",
      "594  00000000000000000000000000000000000000001149f0...              1   \n",
      "595  00000000000000000000000000000000000000001149f0...              1   \n",
      "\n",
      "       difficulty                                               hash  \\\n",
      "0    1.578422e+13  0000000000000000000ad113a3b04963a6572318e20bdd...   \n",
      "1    1.578422e+13  0000000000000000000ad113a3b04963a6572318e20bdd...   \n",
      "2    1.578422e+13  0000000000000000000ad113a3b04963a6572318e20bdd...   \n",
      "3    1.578422e+13  0000000000000000000ad113a3b04963a6572318e20bdd...   \n",
      "4    1.578422e+13  0000000000000000000ad113a3b04963a6572318e20bdd...   \n",
      "..            ...                                                ...   \n",
      "591  1.578422e+13  0000000000000000000ad113a3b04963a6572318e20bdd...   \n",
      "592  1.578422e+13  0000000000000000000ad113a3b04963a6572318e20bdd...   \n",
      "593  1.578422e+13  0000000000000000000ad113a3b04963a6572318e20bdd...   \n",
      "594  1.578422e+13  0000000000000000000ad113a3b04963a6572318e20bdd...   \n",
      "595  1.578422e+13  0000000000000000000ad113a3b04963a6572318e20bdd...   \n",
      "\n",
      "     isMainChain                                         merkleroot  \\\n",
      "0           True  a0e1db9c969e6e29f514d23845909352ede0495af5cfdc...   \n",
      "1           True  a0e1db9c969e6e29f514d23845909352ede0495af5cfdc...   \n",
      "2           True  a0e1db9c969e6e29f514d23845909352ede0495af5cfdc...   \n",
      "3           True  a0e1db9c969e6e29f514d23845909352ede0495af5cfdc...   \n",
      "4           True  a0e1db9c969e6e29f514d23845909352ede0495af5cfdc...   \n",
      "..           ...                                                ...   \n",
      "591         True  a0e1db9c969e6e29f514d23845909352ede0495af5cfdc...   \n",
      "592         True  a0e1db9c969e6e29f514d23845909352ede0495af5cfdc...   \n",
      "593         True  a0e1db9c969e6e29f514d23845909352ede0495af5cfdc...   \n",
      "594         True  a0e1db9c969e6e29f514d23845909352ede0495af5cfdc...   \n",
      "595         True  a0e1db9c969e6e29f514d23845909352ede0495af5cfdc...   \n",
      "\n",
      "         nonce                                  previousblockhash  reward  \\\n",
      "0    681502923  000000000000000000069925ad0af86df331b0ae9d1eb8...    6.25   \n",
      "1    681502923  000000000000000000069925ad0af86df331b0ae9d1eb8...    6.25   \n",
      "2    681502923  000000000000000000069925ad0af86df331b0ae9d1eb8...    6.25   \n",
      "3    681502923  000000000000000000069925ad0af86df331b0ae9d1eb8...    6.25   \n",
      "4    681502923  000000000000000000069925ad0af86df331b0ae9d1eb8...    6.25   \n",
      "..         ...                                                ...     ...   \n",
      "591  681502923  000000000000000000069925ad0af86df331b0ae9d1eb8...    6.25   \n",
      "592  681502923  000000000000000000069925ad0af86df331b0ae9d1eb8...    6.25   \n",
      "593  681502923  000000000000000000069925ad0af86df331b0ae9d1eb8...    6.25   \n",
      "594  681502923  000000000000000000069925ad0af86df331b0ae9d1eb8...    6.25   \n",
      "595  681502923  000000000000000000069925ad0af86df331b0ae9d1eb8...    6.25   \n",
      "\n",
      "       size        time    version  txCount  \n",
      "0    306400  1594612449  536928256      596  \n",
      "1    306400  1594612449  536928256      596  \n",
      "2    306400  1594612449  536928256      596  \n",
      "3    306400  1594612449  536928256      596  \n",
      "4    306400  1594612449  536928256      596  \n",
      "..      ...         ...        ...      ...  \n",
      "591  306400  1594612449  536928256      596  \n",
      "592  306400  1594612449  536928256      596  \n",
      "593  306400  1594612449  536928256      596  \n",
      "594  306400  1594612449  536928256      596  \n",
      "595  306400  1594612449  536928256      596  \n",
      "\n",
      "[596 rows x 16 columns]\n"
     ]
    }
   ],
   "source": [
    "block_df = parse_block_file(files[0])\n",
    "print(block_df)\n",
    "convert_to_csv(df = block_df, filename = filename)"
   ]
  },
  {
   "cell_type": "code",
   "execution_count": null,
   "id": "eb3116ee",
   "metadata": {},
   "outputs": [],
   "source": []
  }
 ],
 "metadata": {
  "kernelspec": {
   "display_name": "Python 3",
   "language": "python",
   "name": "python3"
  },
  "language_info": {
   "codemirror_mode": {
    "name": "ipython",
    "version": 3
   },
   "file_extension": ".py",
   "mimetype": "text/x-python",
   "name": "python",
   "nbconvert_exporter": "python",
   "pygments_lexer": "ipython3",
   "version": "3.7.6"
  }
 },
 "nbformat": 4,
 "nbformat_minor": 5
}
