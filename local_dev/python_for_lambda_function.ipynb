{
 "cells": [
  {
   "cell_type": "code",
   "execution_count": 1,
   "id": "7407d39f",
   "metadata": {},
   "outputs": [],
   "source": [
    "import pandas as pd\n",
    "import json\n"
   ]
  },
  {
   "cell_type": "code",
   "execution_count": 82,
   "id": "e23b83b6",
   "metadata": {},
   "outputs": [],
   "source": [
    "files = ['raw_data/00639027_blocks.json', 'raw_data/00639026_transactions.json']\n",
    "filename = files[0]\n"
   ]
  },
  {
   "cell_type": "code",
   "execution_count": 63,
   "id": "8549df8e",
   "metadata": {},
   "outputs": [
    {
     "ename": "SyntaxError",
     "evalue": "invalid syntax (<ipython-input-63-f56b3643a12c>, line 1)",
     "output_type": "error",
     "traceback": [
      "\u001b[0;36m  File \u001b[0;32m\"<ipython-input-63-f56b3643a12c>\"\u001b[0;36m, line \u001b[0;32m1\u001b[0m\n\u001b[0;31m    test_df = pd.DataFrame(,columns = 'test')\u001b[0m\n\u001b[0m                           ^\u001b[0m\n\u001b[0;31mSyntaxError\u001b[0m\u001b[0;31m:\u001b[0m invalid syntax\n"
     ]
    }
   ],
   "source": [
    "test_df = pd.DataFrame(,columns = 'test')"
   ]
  },
  {
   "cell_type": "code",
   "execution_count": null,
   "id": "c6b0784b",
   "metadata": {},
   "outputs": [],
   "source": []
  },
  {
   "cell_type": "code",
   "execution_count": 81,
   "id": "ee88a0a9",
   "metadata": {},
   "outputs": [
    {
     "name": "stdout",
     "output_type": "stream",
     "text": [
      "1836\n"
     ]
    }
   ],
   "source": [
    "def parse_transaction_file(filename):\n",
    "    json_file = open(filename)\n",
    "    json_obj = json.load(json_file)\n",
    "    #if not len(json_obj) == txCount: raise Exception(\"Transcation count mismatch\")\n",
    "    #print(len(json_obj))\n",
    "    #print(json_obj[0]['vout'][3])\n",
    "    #print(json_obj[0]['locktime'])\n",
    "    #print(json_obj[595]['vout'][0])\n",
    "    #print(len(json_obj[592]['vout']))\n",
    "    #df = pd.DataFrame.from_dict(json_obj[595]['vin'])\n",
    "    \n",
    "    transaction_data        = []\n",
    "    transaction_input_data  = []\n",
    "    transaction_output_data = []\n",
    "    transaction_count = 0\n",
    "    \n",
    "    #print(json_obj[3]['vin'][1]['txid'])\n",
    "    for x in range(len(json_obj)):\n",
    "        transaction_count += 1\n",
    "        #Coinbase\n",
    "        tx = {}\n",
    "        if x == 0:\n",
    "            tx['tx_id']          = json_obj[0]['txid']\n",
    "            tx['vjoinsplit']     = json_obj[0]['vjoinsplit']\n",
    "            tx['blockhash']      = json_obj[0]['blockhash']\n",
    "            tx['blockheight']    = json_obj[0]['blockheight']\n",
    "            tx['blocktime']      = json_obj[0]['blocktime']\n",
    "            tx['confirmations']  = json_obj[0]['confirmations']\n",
    "            tx['isCoinBase']     = json_obj[0]['isCoinBase']\n",
    "            tx['fees']           = None\n",
    "            tx['locktime']       = json_obj[0]['locktime']\n",
    "            tx['size']           = json_obj[0]['size']\n",
    "            tx['time']           = json_obj[0]['time']\n",
    "            tx['valueIn']        = None\n",
    "            tx['valueOut']       = json_obj[0]['valueOut']\n",
    "            tx['version']        = json_obj[0]['version']\n",
    "            \n",
    "        else:\n",
    "            tx['tx_id']          = json_obj[x]['txid']\n",
    "            tx['vjoinsplit']     = json_obj[x]['vjoinsplit']\n",
    "            tx['blockhash']      = json_obj[x]['blockhash']\n",
    "            tx['blockheight']    = json_obj[x]['blockheight']\n",
    "            tx['blocktime']      = json_obj[x]['blocktime']\n",
    "            tx['confirmations']  = json_obj[x]['confirmations']\n",
    "            tx['isCoinBase']     = False\n",
    "            tx['fees']           = json_obj[x]['fees']\n",
    "            tx['locktime']       = json_obj[x]['locktime']\n",
    "            tx['size']           = json_obj[x]['size']\n",
    "            tx['time']           = json_obj[x]['time']\n",
    "            tx['valueIn']        = json_obj[x]['valueIn']\n",
    "            tx['valueOut']       = json_obj[x]['valueOut']\n",
    "            tx['version']        = json_obj[x]['version']\n",
    "            for y in range(len(json_obj[x]['vin'])):\n",
    "                #print(y)\n",
    "                tx_in = {}\n",
    "                tx_in['tx_id']       = json_obj[0]['txid']\n",
    "                tx_in['coinbase']    = json_obj[0]['vin'][0]['coinbase']\n",
    "                tx_in['sequence']    = json_obj[0]['vin'][0]['sequence']\n",
    "                tx_in['n']           = json_obj[0]['vin'][0]['n']\n",
    "    \n",
    "                tx_in['tx_id']            = json_obj[x]['txid']\n",
    "                tx_in['in_tx_id']         = json_obj[x]['vin'][y]['txid']\n",
    "                tx_in['vout']             = json_obj[x]['vin'][y]['vout']\n",
    "                tx_in['coinbase']         = None\n",
    "                tx_in['sequence']         = json_obj[x]['vin'][y]['sequence']\n",
    "                tx_in['n']                = json_obj[x]['vin'][y]['n']\n",
    "                tx_in['scriptSig_hex']    = json_obj[x]['vin'][y]['scriptSig']['hex']\n",
    "                tx_in['scriptSig_asm']    = json_obj[x]['vin'][y]['scriptSig']['asm']\n",
    "                tx_in['addr']             = json_obj[x]['vin'][y]['addr']\n",
    "                tx_in['valueSat']         = json_obj[x]['vin'][y]['valueSat']\n",
    "                tx_in['value']            = json_obj[x]['vin'][y]['value']\n",
    "                tx_in['doubleSpentTxID']  = json_obj[x]['vin'][y]['doubleSpentTxID']\n",
    "                transaction_input_data.append(tx_in)\n",
    "                                                   \n",
    "        for y in range(len(json_obj[x]['vout'])):\n",
    "            tx_out = {}\n",
    "            tx_out['tx_id']                    = json_obj[x]['txid']\n",
    "            tx_out['spentTxId']                = json_obj[x]['vout'][y]['spentTxId']\n",
    "            tx_out['spentIndex']               = json_obj[x]['vout'][y]['spentIndex']\n",
    "            tx_out['spentHeight']              = json_obj[x]['vout'][y]['spentHeight']\n",
    "            tx_out['value']                    = json_obj[x]['vout'][y]['value']\n",
    "            tx_out['n']                        = json_obj[x]['vout'][y]['n']\n",
    "            tx_out['scriptPubKey_hex']         = json_obj[x]['vout'][y]['scriptPubKey']['hex']\n",
    "            tx_out['scriptPubKey_asm']         = json_obj[x]['vout'][y]['scriptPubKey']['asm']\n",
    "            tx_out['scriptPubKey_addresses']   = json_obj[x]['vout'][y]['scriptPubKey']['addresses']\n",
    "            tx_out['scriptPubKey_type']        = json_obj[x]['vout'][y]['scriptPubKey']['type']\n",
    "            transaction_output_data.append(tx_out)\n",
    "            \n",
    "        transaction_data.append(tx)\n",
    "    \n",
    "    print(transaction_count)\n",
    "    \n",
    "    tx_df     = pd.DataFrame(transaction_data)\n",
    "    tx_in_df  = pd.DataFrame(transaction_input_data)\n",
    "    tx_out_df = pd.DataFrame(transaction_output_data)\n",
    "    \n",
    "    tx_df.to_csv(\"csv/\" + \"test_tx.csv\", encoding = \"utf-8\", index = True)\n",
    "    tx_in_df.to_csv(\"csv/\" + \"test_tx_in.csv\", encoding = \"utf-8\", index = True)\n",
    "    tx_out_df.to_csv(\"csv/\" + \"test_tx_out.csv\", encoding = \"utf-8\", index = True)\n",
    "\n",
    "    json_file.close()\n",
    "\n",
    "trans_df = parse_transaction_file(files[1])\n"
   ]
  },
  {
   "cell_type": "code",
   "execution_count": 94,
   "id": "126665c6",
   "metadata": {},
   "outputs": [],
   "source": [
    "def parse_block_file(filename):\n",
    "    json_file = open(filename)\n",
    "    json_obj = json.load(json_file)\n",
    "    txCount = (json_obj['txCount'])\n",
    "    #print(json_obj['poolInfo'])\n",
    "    pool_name = json_obj['poolInfo']['poolName']\n",
    "    pool_url = json_obj['poolInfo']['url']\n",
    "    #print(pool_name)\n",
    "    #print(type(json_obj))\n",
    "    json_obj['poolName'] = pool_name\n",
    "    json_obj['poolUrl'] = pool_url\n",
    "    json_obj.pop('poolInfo')\n",
    "    df = pd.DataFrame.from_dict(json_obj)\n",
    "    return df, txCount\n",
    "\n",
    "block_df, txCount = parse_block_file(files[0])\n",
    "convert_to_csv(df = block_df, filename = filename)"
   ]
  },
  {
   "cell_type": "code",
   "execution_count": 43,
   "id": "2f00f4c3",
   "metadata": {},
   "outputs": [],
   "source": [
    "def convert_to_csv(df, filename):\n",
    "    df.to_csv(\"csv/\" + filename[9:-5] + \".csv\", encoding = \"utf-8\", index = False, sep='|', header=False)"
   ]
  },
  {
   "cell_type": "code",
   "execution_count": 44,
   "id": "c0564b3c",
   "metadata": {},
   "outputs": [],
   "source": [
    "\n",
    "# BLOCK FILE CONVERSION TO CSV:\n",
    "block_df, txCount = parse_block_file(files[0])\n",
    "#print(block_df)\n",
    "convert_to_csv(df = block_df, filename = filename)"
   ]
  },
  {
   "cell_type": "code",
   "execution_count": 8,
   "id": "5de23148",
   "metadata": {},
   "outputs": [
    {
     "name": "stdout",
     "output_type": "stream",
     "text": [
      "596\n"
     ]
    }
   ],
   "source": [
    "# TRANSACTION FILE CONVERSION TO CSV:\n",
    "trans_df = parse_transaction_file(files[1])\n"
   ]
  }
 ],
 "metadata": {
  "kernelspec": {
   "display_name": "Python 3",
   "language": "python",
   "name": "python3"
  },
  "language_info": {
   "codemirror_mode": {
    "name": "ipython",
    "version": 3
   },
   "file_extension": ".py",
   "mimetype": "text/x-python",
   "name": "python",
   "nbconvert_exporter": "python",
   "pygments_lexer": "ipython3",
   "version": "3.7.6"
  }
 },
 "nbformat": 4,
 "nbformat_minor": 5
}
